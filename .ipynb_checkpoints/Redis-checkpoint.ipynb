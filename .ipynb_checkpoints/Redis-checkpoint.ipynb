{
 "cells": [
  {
   "cell_type": "code",
   "execution_count": 1,
   "metadata": {},
   "outputs": [],
   "source": [
    "import redis\n",
    "client = redis.StrictRedis()"
   ]
  },
  {
   "cell_type": "markdown",
   "metadata": {},
   "source": [
    "## String : 접두어 없음"
   ]
  },
  {
   "cell_type": "markdown",
   "metadata": {},
   "source": [
    "### 캐시시스템 구현 \n",
    "HTML 페이지, API 응답, 이미지, 비디오 까지 어떤 텍스트 또는 바이너리 데이터도 캐시 할 수 있다고 한다.\n",
    "해시 와 비슷한듯?"
   ]
  },
  {
   "cell_type": "code",
   "execution_count": 2,
   "metadata": {},
   "outputs": [
    {
     "data": {
      "text/plain": [
       "True"
      ]
     },
     "execution_count": 2,
     "metadata": {},
     "output_type": "execute_result"
    }
   ],
   "source": [
    "client.set(\"current chapter\" , \"chapter1\")"
   ]
  },
  {
   "cell_type": "code",
   "execution_count": 3,
   "metadata": {},
   "outputs": [
    {
     "data": {
      "text/plain": [
       "b'chapter1'"
      ]
     },
     "execution_count": 3,
     "metadata": {},
     "output_type": "execute_result"
    }
   ],
   "source": [
    "client.get(\"current chapter\")"
   ]
  },
  {
   "cell_type": "code",
   "execution_count": 4,
   "metadata": {},
   "outputs": [],
   "source": [
    "## multiple"
   ]
  },
  {
   "cell_type": "code",
   "execution_count": 5,
   "metadata": {},
   "outputs": [
    {
     "data": {
      "text/plain": [
       "[b'10', b'20']"
      ]
     },
     "execution_count": 5,
     "metadata": {},
     "output_type": "execute_result"
    }
   ],
   "source": [
    "client.mset({\"thing1\": 10, \"thing2\": 20})\n",
    "client.mget([\"thing1\", \"thing2\"])"
   ]
  },
  {
   "cell_type": "code",
   "execution_count": 6,
   "metadata": {},
   "outputs": [],
   "source": [
    "##Expire 옵션"
   ]
  },
  {
   "cell_type": "code",
   "execution_count": 7,
   "metadata": {},
   "outputs": [
    {
     "data": {
      "text/plain": [
       "True"
      ]
     },
     "execution_count": 7,
     "metadata": {},
     "output_type": "execute_result"
    }
   ],
   "source": [
    "client.expire(\"thing1\", 10)"
   ]
  },
  {
   "cell_type": "code",
   "execution_count": 8,
   "metadata": {},
   "outputs": [
    {
     "data": {
      "text/plain": [
       "10"
      ]
     },
     "execution_count": 8,
     "metadata": {},
     "output_type": "execute_result"
    }
   ],
   "source": [
    "client.ttl(\"thing1\")"
   ]
  },
  {
   "cell_type": "markdown",
   "metadata": {},
   "source": [
    "## List : 접두어 l"
   ]
  },
  {
   "cell_type": "markdown",
   "metadata": {},
   "source": [
    "### 사용자의 최근 트윗 저장하기"
   ]
  },
  {
   "cell_type": "code",
   "execution_count": 9,
   "metadata": {},
   "outputs": [],
   "source": [
    "tweet1 = \"\"\"\n",
    "Natural\n",
    "A beating heart of stone \n",
    "You gotta be so cold\n",
    "To make it in this world \n",
    "Yeah you’re a natural \n",
    "Living your life cutthroat\n",
    "You gotta be so cold \n",
    "Yeah you’re a natural\n",
    "\"\"\"\n",
    "tweet2 = \"\"\"\n",
    "Deep inside me\n",
    "I’m fading to black I’m fading \n",
    "Took an oath by the blood of my hand, won’t break it \n",
    "I can taste it the end is upon us I swear\n",
    "gonna make it \n",
    "I’m gonna make it \n",
    "\"\"\""
   ]
  },
  {
   "cell_type": "code",
   "execution_count": 10,
   "metadata": {},
   "outputs": [
    {
     "data": {
      "text/plain": [
       "1"
      ]
     },
     "execution_count": 10,
     "metadata": {},
     "output_type": "execute_result"
    }
   ],
   "source": [
    "client.lpush(\"user1\",tweet1)"
   ]
  },
  {
   "cell_type": "code",
   "execution_count": 11,
   "metadata": {},
   "outputs": [
    {
     "data": {
      "text/plain": [
       "2"
      ]
     },
     "execution_count": 11,
     "metadata": {},
     "output_type": "execute_result"
    }
   ],
   "source": [
    "client.lpush(\"user1\",tweet2)"
   ]
  },
  {
   "cell_type": "code",
   "execution_count": 12,
   "metadata": {},
   "outputs": [
    {
     "data": {
      "text/plain": [
       "b'\\nDeep inside me\\nI\\xe2\\x80\\x99m fading to black I\\xe2\\x80\\x99m fading \\nTook an oath by the blood of my hand, won\\xe2\\x80\\x99t break it \\nI can taste it the end is upon us I swear\\ngonna make it \\nI\\xe2\\x80\\x99m gonna make it \\n'"
      ]
     },
     "execution_count": 12,
     "metadata": {},
     "output_type": "execute_result"
    }
   ],
   "source": [
    "client.lpop(\"user1\")"
   ]
  },
  {
   "cell_type": "code",
   "execution_count": 13,
   "metadata": {},
   "outputs": [
    {
     "data": {
      "text/plain": [
       "b'\\nNatural\\nA beating heart of stone \\nYou gotta be so cold\\nTo make it in this world \\nYeah you\\xe2\\x80\\x99re a natural \\nLiving your life cutthroat\\nYou gotta be so cold \\nYeah you\\xe2\\x80\\x99re a natural\\n'"
      ]
     },
     "execution_count": 13,
     "metadata": {},
     "output_type": "execute_result"
    }
   ],
   "source": [
    "client.lpop(\"user1\")"
   ]
  },
  {
   "cell_type": "markdown",
   "metadata": {},
   "source": [
    "## Hash : 접두어 h\n",
    "필드를 값으로 매핑할 수 있어 객체를 저장하는데 훌륭한 데이터 구조이다.\n",
    "메모리를 효율적으로 쓸 수 있고, 데이터를 빨리 찾을 수 있게 되있다.\n",
    "cache 는 아예 hash 쓰는 게 좋다고 생각한다. 다만 레디스에서 해시는 문자열을 문자열로 매핑하기 때문에 다양한 데이터 타입을 매핑해야 할 경우엔 보통의 Get/Set 으로 돌아가야할 듯 하다. -> 실습해보니 딱히 그렇지도 않은가하는 생각이 든다.."
   ]
  },
  {
   "cell_type": "markdown",
   "metadata": {},
   "source": [
    "### 영화 메타데이터 저장하기"
   ]
  },
  {
   "cell_type": "code",
   "execution_count": 14,
   "metadata": {},
   "outputs": [
    {
     "data": {
      "text/plain": [
       "0"
      ]
     },
     "execution_count": 14,
     "metadata": {},
     "output_type": "execute_result"
    }
   ],
   "source": [
    "client.hset(\"Movie1\", \"관객수\", 10000000)"
   ]
  },
  {
   "cell_type": "code",
   "execution_count": 15,
   "metadata": {},
   "outputs": [
    {
     "data": {
      "text/plain": [
       "True"
      ]
     },
     "execution_count": 15,
     "metadata": {},
     "output_type": "execute_result"
    }
   ],
   "source": [
    "client.hmset(\"Movie1\", {\"전문가평점\":3.8, \"제작비\" : 120000000})"
   ]
  },
  {
   "cell_type": "code",
   "execution_count": 16,
   "metadata": {},
   "outputs": [
    {
     "data": {
      "text/plain": [
       "[b'10000000', b'3.8']"
      ]
     },
     "execution_count": 16,
     "metadata": {},
     "output_type": "execute_result"
    }
   ],
   "source": [
    "client.hmget(\"Movie1\", [\"관객수\", \"전문가평점\"])"
   ]
  },
  {
   "cell_type": "code",
   "execution_count": 17,
   "metadata": {},
   "outputs": [
    {
     "data": {
      "text/plain": [
       "{b'\\xea\\xb4\\x80\\xea\\xb0\\x9d\\xec\\x88\\x98': b'10000000',\n",
       " b'\\xec\\xa0\\x84\\xeb\\xac\\xb8\\xea\\xb0\\x80\\xed\\x8f\\x89\\xec\\xa0\\x90': b'3.8',\n",
       " b'\\xec\\xa0\\x9c\\xec\\x9e\\x91\\xeb\\xb9\\x84': b'120000000'}"
      ]
     },
     "execution_count": 17,
     "metadata": {},
     "output_type": "execute_result"
    }
   ],
   "source": [
    "client.hgetall(\"Movie1\")"
   ]
  },
  {
   "cell_type": "code",
   "execution_count": 18,
   "metadata": {},
   "outputs": [
    {
     "data": {
      "text/plain": [
       "[b'\\xea\\xb4\\x80\\xea\\xb0\\x9d\\xec\\x88\\x98',\n",
       " b'\\xec\\xa0\\x84\\xeb\\xac\\xb8\\xea\\xb0\\x80\\xed\\x8f\\x89\\xec\\xa0\\x90',\n",
       " b'\\xec\\xa0\\x9c\\xec\\x9e\\x91\\xeb\\xb9\\x84']"
      ]
     },
     "execution_count": 18,
     "metadata": {},
     "output_type": "execute_result"
    }
   ],
   "source": [
    "client.hkeys(\"Movie1\")"
   ]
  },
  {
   "cell_type": "code",
   "execution_count": 19,
   "metadata": {},
   "outputs": [
    {
     "data": {
      "text/plain": [
       "[b'10000000', b'3.8', b'120000000']"
      ]
     },
     "execution_count": 19,
     "metadata": {},
     "output_type": "execute_result"
    }
   ],
   "source": [
    "client.hvals(\"Movie1\")"
   ]
  },
  {
   "cell_type": "markdown",
   "metadata": {},
   "source": [
    "### 투표시스템 만들기"
   ]
  },
  {
   "cell_type": "code",
   "execution_count": 20,
   "metadata": {},
   "outputs": [
    {
     "data": {
      "text/plain": [
       "True"
      ]
     },
     "execution_count": 20,
     "metadata": {},
     "output_type": "execute_result"
    }
   ],
   "source": [
    "client.hmset(\"Vote\",{\"찬성\":0 , \"반대\":0})"
   ]
  },
  {
   "cell_type": "code",
   "execution_count": 21,
   "metadata": {},
   "outputs": [],
   "source": [
    "voted_people = {}"
   ]
  },
  {
   "cell_type": "code",
   "execution_count": 22,
   "metadata": {},
   "outputs": [],
   "source": [
    "def isvalid(id_):\n",
    "    if not voted_people.get(id_):\n",
    "        return True"
   ]
  },
  {
   "cell_type": "code",
   "execution_count": 23,
   "metadata": {},
   "outputs": [],
   "source": [
    "def vote(id_=\"Jeffrey\"):\n",
    "    if isvalid(id_):\n",
    "        client.hincrby(\"Vote\",\"찬성\")\n",
    "    voted_people[id_]=1"
   ]
  },
  {
   "cell_type": "code",
   "execution_count": 24,
   "metadata": {},
   "outputs": [],
   "source": [
    "vote()"
   ]
  },
  {
   "cell_type": "code",
   "execution_count": 25,
   "metadata": {},
   "outputs": [
    {
     "data": {
      "text/plain": [
       "b'1'"
      ]
     },
     "execution_count": 25,
     "metadata": {},
     "output_type": "execute_result"
    }
   ],
   "source": [
    "client.hget(\"Vote\",\"찬성\")"
   ]
  },
  {
   "cell_type": "markdown",
   "metadata": {},
   "source": [
    "## Set : 접두어 s"
   ]
  },
  {
   "cell_type": "code",
   "execution_count": 26,
   "metadata": {},
   "outputs": [
    {
     "data": {
      "text/plain": [
       "0"
      ]
     },
     "execution_count": 26,
     "metadata": {},
     "output_type": "execute_result"
    }
   ],
   "source": [
    "client.sadd(\"hello\",1)"
   ]
  },
  {
   "cell_type": "code",
   "execution_count": 27,
   "metadata": {},
   "outputs": [
    {
     "data": {
      "text/plain": [
       "0"
      ]
     },
     "execution_count": 27,
     "metadata": {},
     "output_type": "execute_result"
    }
   ],
   "source": [
    "client.sadd(\"hello\",2)"
   ]
  },
  {
   "cell_type": "code",
   "execution_count": 28,
   "metadata": {},
   "outputs": [
    {
     "data": {
      "text/plain": [
       "(0, [b'1', b'2'])"
      ]
     },
     "execution_count": 28,
     "metadata": {},
     "output_type": "execute_result"
    }
   ],
   "source": [
    "client.sscan(\"hello\")"
   ]
  },
  {
   "cell_type": "markdown",
   "metadata": {},
   "source": [
    "### 조건에 맞는 데이터만 보기 ( A도시에서 B도시로 가는 비행기만 조회하기)"
   ]
  },
  {
   "cell_type": "code",
   "execution_count": 29,
   "metadata": {},
   "outputs": [
    {
     "data": {
      "text/plain": [
       "0"
      ]
     },
     "execution_count": 29,
     "metadata": {},
     "output_type": "execute_result"
    }
   ],
   "source": [
    "#출발지가 A인 비행기 셋\n",
    "client.sadd(\"dept:A\" , \"K12345\")\n",
    "client.sadd(\"dept:A\" , \"K21345\")\n",
    "client.sadd(\"dept:A\" , \"K31345\")\n",
    "client.sadd(\"dept:A\" , \"K42345\")"
   ]
  },
  {
   "cell_type": "code",
   "execution_count": 30,
   "metadata": {},
   "outputs": [
    {
     "data": {
      "text/plain": [
       "0"
      ]
     },
     "execution_count": 30,
     "metadata": {},
     "output_type": "execute_result"
    }
   ],
   "source": [
    "#도착지가 B인 비행기 셋\n",
    "client.sadd(\"dest:B\",\"K12345\")\n",
    "client.sadd(\"dest:B\",\"K12344\")\n",
    "client.sadd(\"dest:B\",\"K12343\")\n",
    "client.sadd(\"dest:B\",\"K12342\")"
   ]
  },
  {
   "cell_type": "code",
   "execution_count": 31,
   "metadata": {},
   "outputs": [
    {
     "data": {
      "text/plain": [
       "{b'K12345'}"
      ]
     },
     "execution_count": 31,
     "metadata": {},
     "output_type": "execute_result"
    }
   ],
   "source": [
    "client.sinter([\"dept:A\",'dest:B'])"
   ]
  },
  {
   "cell_type": "markdown",
   "metadata": {},
   "source": [
    "### 딜 추적 시스템"
   ]
  },
  {
   "cell_type": "markdown",
   "metadata": {},
   "source": [
    "모든 딜은 딜을 받은 모든 사용자 ID를 포함하는 레디스 셋임\n"
   ]
  },
  {
   "cell_type": "markdown",
   "metadata": {},
   "source": [
    "1. 딜 발송 여부 체크 하기\n",
    "\n",
    "2. 사용자가 받은 딜 개수 알아내기\n",
    "\n",
    "3. 발송한 딜로부터 자료수집하기"
   ]
  },
  {
   "cell_type": "code",
   "execution_count": 32,
   "metadata": {},
   "outputs": [],
   "source": [
    "def sendDeal():\n",
    "    pass\n",
    "\n",
    "def markDealAsSent(dealId,userId):\n",
    "    client.sadd(dealId,userId)\n",
    "\n",
    "def sendDealIfNotSent(dealId,userId):\n",
    "    if not client.sismember(dealId, userId ):\n",
    "        print(\"sending deal\")\n",
    "        sendDeal()\n",
    "        markDealAsSent(dealId,userId)\n",
    "    else:\n",
    "        print(\"already sent\")\n",
    "\n",
    "def showUsersThatReceivedAllDeals(dealIds):\n",
    "    UsersThatReceivedAllDeals = client.sinter(dealIds)\n",
    "    print(UsersThatReceivedAllDeals)\n",
    "\n",
    "def showUsersThatReceivedAtLeastOneofTheDeals(dealIds):\n",
    "    UsersThatReceivedAtLeastOneofTheDeals = client.sunion(dealIds)\n",
    "    print(UsersThatReceivedAtLeastOneofTheDeals)\n",
    "    \n"
   ]
  },
  {
   "cell_type": "code",
   "execution_count": 33,
   "metadata": {},
   "outputs": [],
   "source": [
    "markDealAsSent(\"deal:1\",\"user:1\")\n",
    "markDealAsSent(\"deal:1\",\"user:2\")\n",
    "markDealAsSent(\"deal:2\",'user:1')\n",
    "markDealAsSent(\"deal:2\",\"user:3\")"
   ]
  },
  {
   "cell_type": "code",
   "execution_count": 34,
   "metadata": {},
   "outputs": [
    {
     "name": "stdout",
     "output_type": "stream",
     "text": [
      "already sent\n"
     ]
    }
   ],
   "source": [
    "sendDealIfNotSent(\"deal:1\",\"user:1\")"
   ]
  },
  {
   "cell_type": "code",
   "execution_count": 35,
   "metadata": {},
   "outputs": [
    {
     "name": "stdout",
     "output_type": "stream",
     "text": [
      "already sent\n"
     ]
    }
   ],
   "source": [
    "sendDealIfNotSent(\"deal:1\",\"user:2\")"
   ]
  },
  {
   "cell_type": "code",
   "execution_count": 36,
   "metadata": {},
   "outputs": [
    {
     "name": "stdout",
     "output_type": "stream",
     "text": [
      "already sent\n"
     ]
    }
   ],
   "source": [
    "sendDealIfNotSent(\"deal:1\",\"user:3\")"
   ]
  },
  {
   "cell_type": "code",
   "execution_count": 37,
   "metadata": {},
   "outputs": [
    {
     "name": "stdout",
     "output_type": "stream",
     "text": [
      "{b'user:3', b'user:1'}\n"
     ]
    }
   ],
   "source": [
    "showUsersThatReceivedAllDeals([\"deal:1\",\"deal:2\"])"
   ]
  },
  {
   "cell_type": "code",
   "execution_count": 38,
   "metadata": {},
   "outputs": [
    {
     "name": "stdout",
     "output_type": "stream",
     "text": [
      "{b'user:2', b'user:3', b'user:1'}\n"
     ]
    }
   ],
   "source": [
    "showUsersThatReceivedAtLeastOneofTheDeals([\"deal:1\",\"deal:2\"])"
   ]
  },
  {
   "cell_type": "markdown",
   "metadata": {},
   "source": [
    "## sorted set : 접두어 z"
   ]
  },
  {
   "cell_type": "markdown",
   "metadata": {},
   "source": [
    "### 온라인게임 리더보드"
   ]
  },
  {
   "cell_type": "code",
   "execution_count": 39,
   "metadata": {},
   "outputs": [
    {
     "data": {
      "text/plain": [
       "0"
      ]
     },
     "execution_count": 39,
     "metadata": {},
     "output_type": "execute_result"
    }
   ],
   "source": [
    "client.zadd(\"leaders\",{\"Alice\":100})\n",
    "\n",
    "client.zadd(\"leaders\",{\"Bob\":120})\n",
    "\n",
    "client.zadd(\"leaders\",{\"Chris\":116})\n",
    "client.zadd(\"leaders\",{\"Demian\":152})"
   ]
  },
  {
   "cell_type": "code",
   "execution_count": 40,
   "metadata": {},
   "outputs": [
    {
     "data": {
      "text/plain": [
       "(0,\n",
       " [(b'Alice', 100.0), (b'Chris', 116.0), (b'Bob', 120.0), (b'Demian', 152.0)])"
      ]
     },
     "execution_count": 40,
     "metadata": {},
     "output_type": "execute_result"
    }
   ],
   "source": [
    "client.zscan(\"leaders\")"
   ]
  },
  {
   "cell_type": "code",
   "execution_count": 41,
   "metadata": {},
   "outputs": [
    {
     "data": {
      "text/plain": [
       "[(b'Demian', 152.0), (b'Bob', 120.0), (b'Chris', 116.0), (b'Alice', 100.0)]"
      ]
     },
     "execution_count": 41,
     "metadata": {},
     "output_type": "execute_result"
    }
   ],
   "source": [
    "client.zrevrange(\"leaders\", 0,-1,withscores=True)"
   ]
  },
  {
   "cell_type": "markdown",
   "metadata": {},
   "source": [
    "## Beatmap : 접두어 bit\n",
    "내부적으로는 문자열, 모든 user 에 대해 1과 0으로 특정행동에 대해 표시, 셋에 비해 메모리가 효율적인 경우가 있음"
   ]
  },
  {
   "cell_type": "markdown",
   "metadata": {},
   "source": [
    "### 오늘 앵그리버드 게임을 몇명의 사용자가 실행했는가 "
   ]
  },
  {
   "cell_type": "code",
   "execution_count": 42,
   "metadata": {},
   "outputs": [],
   "source": [
    "import numpy as np"
   ]
  },
  {
   "cell_type": "code",
   "execution_count": 43,
   "metadata": {},
   "outputs": [],
   "source": [
    "for user in range(100):\n",
    "    client.setbit(\"visits:2019-09-16\" , user, np.random.randint(0,2))"
   ]
  },
  {
   "cell_type": "code",
   "execution_count": 44,
   "metadata": {},
   "outputs": [
    {
     "data": {
      "text/plain": [
       "44"
      ]
     },
     "execution_count": 44,
     "metadata": {},
     "output_type": "execute_result"
    }
   ],
   "source": [
    "client.bitcount(\"visits:2019-09-16\")"
   ]
  },
  {
   "cell_type": "markdown",
   "metadata": {},
   "source": [
    "## Hyper loglog : 접두어 pf\n",
    "특정 웹사이트의 고유 방문자수를 0.8%의 오차를 가지고 알려준다. 셋이나 비트맵보다 메모리효율적인 경우가 있다."
   ]
  },
  {
   "cell_type": "markdown",
   "metadata": {},
   "source": [
    "### 웹사이트 방문 수를 계산하고 얻기"
   ]
  },
  {
   "cell_type": "code",
   "execution_count": 45,
   "metadata": {},
   "outputs": [],
   "source": [
    "def addVisit(date,user):\n",
    "    key = date\n",
    "    client.pfadd(key, user)"
   ]
  },
  {
   "cell_type": "code",
   "execution_count": 46,
   "metadata": {},
   "outputs": [],
   "source": [
    "for user in range(1,10000+1):\n",
    "    addVisit(date=\"2019-09-16\",user=user)"
   ]
  },
  {
   "cell_type": "code",
   "execution_count": 47,
   "metadata": {},
   "outputs": [
    {
     "data": {
      "text/plain": [
       "9988"
      ]
     },
     "execution_count": 47,
     "metadata": {},
     "output_type": "execute_result"
    }
   ],
   "source": [
    "client.pfcount(\"2019-09-16\")"
   ]
  },
  {
   "cell_type": "markdown",
   "metadata": {},
   "source": [
    "10000명이 나와야 하는데 9988명으로 약간의 오차가 있음을 알 수 있다"
   ]
  }
 ],
 "metadata": {
  "kernelspec": {
   "display_name": "Python 3",
   "language": "python",
   "name": "python3"
  },
  "language_info": {
   "codemirror_mode": {
    "name": "ipython",
    "version": 3
   },
   "file_extension": ".py",
   "mimetype": "text/x-python",
   "name": "python",
   "nbconvert_exporter": "python",
   "pygments_lexer": "ipython3",
   "version": "3.6.4"
  }
 },
 "nbformat": 4,
 "nbformat_minor": 2
}
